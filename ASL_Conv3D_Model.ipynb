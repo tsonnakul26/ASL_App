{
  "nbformat": 4,
  "nbformat_minor": 0,
  "metadata": {
    "colab": {
      "name": "ASL Conv3D Model",
      "provenance": [],
      "authorship_tag": "ABX9TyPX8w05g3ya4Z9FA+6OX/D+",
      "include_colab_link": true
    },
    "kernelspec": {
      "name": "python3",
      "display_name": "Python 3"
    },
    "accelerator": "GPU"
  },
  "cells": [
    {
      "cell_type": "markdown",
      "metadata": {
        "id": "view-in-github",
        "colab_type": "text"
      },
      "source": [
        "<a href=\"https://colab.research.google.com/github/tsonnakul26/ASL_App/blob/main/ASL_Conv3D_Model.ipynb\" target=\"_parent\"><img src=\"https://colab.research.google.com/assets/colab-badge.svg\" alt=\"Open In Colab\"/></a>"
      ]
    },
    {
      "cell_type": "markdown",
      "metadata": {
        "id": "ry3_GzFt4ID4"
      },
      "source": [
        "\n",
        "\n",
        "# ASL Conv3D Handshape Classification Model - Vision & Language F20\n",
        "### Layne Berry, Ethan Blaser, Thrishna Sonnakul, Surya Ambardar\n",
        "---"
      ]
    },
    {
      "cell_type": "markdown",
      "metadata": {
        "id": "Kfsk0lVQWWgx"
      },
      "source": [
        "# Imports"
      ]
    },
    {
      "cell_type": "code",
      "metadata": {
        "id": "P5oJJsYqilR7"
      },
      "source": [
        "from google.colab import drive\n",
        "from google.colab.patches import cv2_imshow\n",
        "import pandas as pd\n",
        "import numpy as np\n",
        "import random\n",
        "import cv2 as cv\n",
        "import matplotlib.pyplot as plt\n",
        "import tensorflow\n",
        "from tensorflow import keras\n",
        "import keras\n",
        "from keras.models import Sequential, Model\n",
        "from keras.layers import Conv2D, MaxPooling2D, Dense, Flatten, Dropout, Conv3D, LSTM, Activation, MaxPooling3D, BatchNormalization\n",
        "from keras.optimizers import Adam\n",
        "from keras.callbacks import TensorBoard\n",
        "import os\n",
        "import pickle as pkl"
      ],
      "execution_count": null,
      "outputs": []
    },
    {
      "cell_type": "markdown",
      "metadata": {
        "id": "AiSf4qvHWfj9"
      },
      "source": [
        "# Data"
      ]
    },
    {
      "cell_type": "code",
      "metadata": {
        "id": "bsevYbgmj4Rp"
      },
      "source": [
        "#loading labels pkl file\n",
        "labels = pkl.load(open('ASL_FINAL_labels.p', 'rb'))"
      ],
      "execution_count": null,
      "outputs": []
    },
    {
      "cell_type": "code",
      "metadata": {
        "colab": {
          "base_uri": "https://localhost:8080/"
        },
        "id": "7z2LCz9lkr9Z",
        "outputId": "fd12deb0-d597-4983-a5f9-829a10681d14"
      },
      "source": [
        "drive.mount('/content/drive', force_remount = True)"
      ],
      "execution_count": null,
      "outputs": [
        {
          "output_type": "stream",
          "text": [
            "Mounted at /content/drive\n"
          ],
          "name": "stdout"
        }
      ]
    },
    {
      "cell_type": "code",
      "metadata": {
        "id": "0hBi9A0RoNEV"
      },
      "source": [
        "#loading videos dataframe from drive\n",
        "DATA_PATH = \"/content/drive/MyDrive\"\n",
        "infile = open(DATA_PATH+'/ASL/ASL_FINAL_data.p','rb')\n",
        "final_dataframe = pkl.load(infile)"
      ],
      "execution_count": null,
      "outputs": []
    },
    {
      "cell_type": "code",
      "metadata": {
        "colab": {
          "base_uri": "https://localhost:8080/"
        },
        "id": "v6mP8N78oizL",
        "outputId": "b717264f-fc54-4aa0-a25b-6275208b7b84"
      },
      "source": [
        "#1986 video sequences of 9 256x256x3 images, and 1986 labels of 14-length one hot encoded vectors.\n",
        "print(final_dataframe.shape)\n",
        "labels.shape"
      ],
      "execution_count": null,
      "outputs": [
        {
          "output_type": "stream",
          "text": [
            "(1986, 9, 256, 256, 3)\n"
          ],
          "name": "stdout"
        },
        {
          "output_type": "execute_result",
          "data": {
            "text/plain": [
              "(1986, 14)"
            ]
          },
          "metadata": {
            "tags": []
          },
          "execution_count": 5
        }
      ]
    },
    {
      "cell_type": "code",
      "metadata": {
        "id": "w6YsaW0PrxrM"
      },
      "source": [
        "def hot2label(x):\n",
        "  shapes = ['0,0-flat','1-D','1-X', '10,A', '15,15-close', '2', '20,G,L', '3-P,K', '5', '5-claw', 'C', '8,8-open', '9', 'None', 'S']\n",
        "  for i in range(len(x)):\n",
        "    if x[i] == 1: \n",
        "      return(shapes[i])\n",
        "\n",
        "def delx(x, y):\n",
        "  for i in range(len(x)):\n",
        "    if i in y: \n",
        "      if i < len(x):\n",
        "        x.pop(i)\n",
        "  return x"
      ],
      "execution_count": null,
      "outputs": []
    },
    {
      "cell_type": "code",
      "metadata": {
        "colab": {
          "base_uri": "https://localhost:8080/"
        },
        "id": "GhM7HwWP3W3e",
        "outputId": "5d186811-c04c-4906-ae53-2d0398a38172"
      },
      "source": [
        "#Removing indexes with 'None' label\n",
        "bad_idxs = []\n",
        "for i in range(len(labels)):\n",
        "  if hot2label(labels[i]) == 'None':\n",
        "    bad_idxs.append(i)\n",
        "print(len(bad_idxs))"
      ],
      "execution_count": null,
      "outputs": [
        {
          "output_type": "stream",
          "text": [
            "158\n"
          ],
          "name": "stdout"
        }
      ]
    },
    {
      "cell_type": "code",
      "metadata": {
        "colab": {
          "base_uri": "https://localhost:8080/"
        },
        "id": "xbgnNGLL12kt",
        "outputId": "a14b7b5a-fc84-4bd1-f98c-1a43f425a753"
      },
      "source": [
        "labels = list(labels)\n",
        "print(len(labels))\n",
        "print(len(bad_idxs))\n",
        "label = delx(labels, bad_idxs)\n",
        "print(len(label))\n",
        "\n",
        "print(len(list(final_dataframe)))\n",
        "dflist = list(final_dataframe)\n",
        "data = delx(dflist, bad_idxs)\n",
        "print(len(data))\n",
        "\n",
        "label = label[:1000]\n",
        "data = data[:1000]"
      ],
      "execution_count": null,
      "outputs": [
        {
          "output_type": "stream",
          "text": [
            "1986\n",
            "158\n",
            "1840\n",
            "1986\n",
            "1840\n"
          ],
          "name": "stdout"
        }
      ]
    },
    {
      "cell_type": "code",
      "metadata": {
        "id": "bFp1gENv3mF8"
      },
      "source": [
        "x = np.array(data)\n",
        "y = np.array(label)"
      ],
      "execution_count": null,
      "outputs": []
    },
    {
      "cell_type": "code",
      "metadata": {
        "colab": {
          "base_uri": "https://localhost:8080/"
        },
        "id": "b0aoZWEe8Zre",
        "outputId": "a31f4497-31ca-4e24-96c0-f28da424499d"
      },
      "source": [
        "#Scaling all pixel values between 0 and 1\n",
        "print(x.shape)\n",
        "print('Min: %.3f, Max: %.3f' % (x.min(), x.max()))\n",
        "for i in range(1000):\n",
        "  for j in range(9):\n",
        "    x[i][j] = x[i][j] / 255.0\n",
        "print('After scaling: Min: %.3f, Max: %.3f' % (x.min(), x.max()))"
      ],
      "execution_count": null,
      "outputs": [
        {
          "output_type": "stream",
          "text": [
            "(1000, 9, 256, 256, 3)\n",
            "Min: 0.000, Max: 255.000\n",
            "After scaling: Min: 0.000, Max: 1.000\n"
          ],
          "name": "stdout"
        }
      ]
    },
    {
      "cell_type": "code",
      "metadata": {
        "colab": {
          "base_uri": "https://localhost:8080/"
        },
        "id": "y_h6VxZ-6Eob",
        "outputId": "6dae5ae8-bc4d-431d-c02f-d4fc3b3ee1f6"
      },
      "source": [
        "#Splitting X and Y into train and validation sets\n",
        "x_train = x[:len(x)*4//5]\n",
        "x_val = x[len(x)*4//5:]\n",
        "y_train = y[:len(x)*4//5]\n",
        "y_val = y[len(x)*4//5:]\n",
        "\n",
        "print(x_train.shape)\n",
        "print(x_val.shape)\n",
        "print(y_train.shape)\n",
        "print(y_val.shape)"
      ],
      "execution_count": null,
      "outputs": [
        {
          "output_type": "stream",
          "text": [
            "(800, 9, 256, 256, 3)\n",
            "(200, 9, 256, 256, 3)\n",
            "(800, 14)\n",
            "(200, 14)\n"
          ],
          "name": "stdout"
        }
      ]
    },
    {
      "cell_type": "markdown",
      "metadata": {
        "id": "wuQLSWghXgtv"
      },
      "source": [
        "# Model Definition and Training"
      ]
    },
    {
      "cell_type": "code",
      "metadata": {
        "id": "apDYyRD7ESnb"
      },
      "source": [
        "# Defining Conv3D model\n",
        "model = Sequential()\n",
        "model.add(Conv3D(32, kernel_size=(3, 3, 3), input_shape= (9, 256, 256, 3), padding=\"same\"))\n",
        "model.add(Activation('relu'))\n",
        "model.add(MaxPooling3D(pool_size=(3, 3, 3), padding=\"same\"))\n",
        "model.add(Dropout(0.25))\n",
        "model.add(Conv3D(64, padding=\"same\", kernel_size=(3, 3, 3)))\n",
        "model.add(Activation('relu'))\n",
        "model.add(MaxPooling3D(pool_size=(3, 3, 3), padding=\"same\"))\n",
        "model.add(Dropout(0.25))\n",
        "model.add(Flatten())\n",
        "model.add(Dense(512, activation='relu'))\n",
        "model.add(BatchNormalization())\n",
        "model.add(Dropout(0.5))\n",
        "#14 categories, so last Dense layer has 14 neurons\n",
        "model.add(Dense(14, activation='softmax'))"
      ],
      "execution_count": null,
      "outputs": []
    },
    {
      "cell_type": "code",
      "metadata": {
        "colab": {
          "base_uri": "https://localhost:8080/"
        },
        "id": "rEJqR3hk6v54",
        "outputId": "d21ce5ca-0cad-4d2e-b66f-efd170e2a3e6"
      },
      "source": [
        "model.compile(loss='categorical_crossentropy', optimizer=Adam(lr = 0.001), metrics=[\"accuracy\"])\n",
        "model.fit(x_train, y_train, epochs=20, batch_size = 20, verbose = 1)"
      ],
      "execution_count": null,
      "outputs": [
        {
          "output_type": "stream",
          "text": [
            "Epoch 1/20\n",
            " 2/40 [>.............................] - ETA: 12s - loss: 3.0374 - accuracy: 0.0250WARNING:tensorflow:Callbacks method `on_train_batch_end` is slow compared to the batch time (batch time: 0.0256s vs `on_train_batch_end` time: 0.2865s). Check your callbacks.\n",
            "40/40 [==============================] - 13s 315ms/step - loss: 3.1252 - accuracy: 0.0825\n",
            "Epoch 2/20\n",
            "40/40 [==============================] - 13s 319ms/step - loss: 2.9204 - accuracy: 0.1025\n",
            "Epoch 3/20\n",
            "40/40 [==============================] - 13s 318ms/step - loss: 2.8811 - accuracy: 0.1138\n",
            "Epoch 4/20\n",
            "40/40 [==============================] - 12s 312ms/step - loss: 2.6966 - accuracy: 0.1838\n",
            "Epoch 5/20\n",
            "40/40 [==============================] - 12s 310ms/step - loss: 2.5339 - accuracy: 0.2087\n",
            "Epoch 6/20\n",
            "40/40 [==============================] - 12s 309ms/step - loss: 2.2563 - accuracy: 0.3050\n",
            "Epoch 7/20\n",
            "40/40 [==============================] - 12s 310ms/step - loss: 1.8396 - accuracy: 0.4000\n",
            "Epoch 8/20\n",
            "40/40 [==============================] - 12s 312ms/step - loss: 1.5248 - accuracy: 0.5100\n",
            "Epoch 9/20\n",
            "40/40 [==============================] - 13s 314ms/step - loss: 1.2953 - accuracy: 0.5962\n",
            "Epoch 10/20\n",
            "40/40 [==============================] - 13s 314ms/step - loss: 1.0352 - accuracy: 0.6925\n",
            "Epoch 11/20\n",
            "40/40 [==============================] - 12s 311ms/step - loss: 0.7849 - accuracy: 0.7650\n",
            "Epoch 12/20\n",
            "40/40 [==============================] - 12s 311ms/step - loss: 0.6594 - accuracy: 0.8112\n",
            "Epoch 13/20\n",
            "40/40 [==============================] - 12s 311ms/step - loss: 0.5273 - accuracy: 0.8737\n",
            "Epoch 14/20\n",
            "40/40 [==============================] - 12s 312ms/step - loss: 0.3754 - accuracy: 0.9087\n",
            "Epoch 15/20\n",
            "40/40 [==============================] - 12s 312ms/step - loss: 0.3146 - accuracy: 0.9362\n",
            "Epoch 16/20\n",
            "40/40 [==============================] - 12s 312ms/step - loss: 0.2549 - accuracy: 0.9488\n",
            "Epoch 17/20\n",
            "40/40 [==============================] - 12s 311ms/step - loss: 0.2232 - accuracy: 0.9588\n",
            "Epoch 18/20\n",
            "40/40 [==============================] - 12s 311ms/step - loss: 0.1525 - accuracy: 0.9750\n",
            "Epoch 19/20\n",
            "40/40 [==============================] - 12s 310ms/step - loss: 0.1175 - accuracy: 0.9850\n",
            "Epoch 20/20\n",
            "40/40 [==============================] - 12s 311ms/step - loss: 0.1157 - accuracy: 0.9850\n"
          ],
          "name": "stdout"
        },
        {
          "output_type": "execute_result",
          "data": {
            "text/plain": [
              "<tensorflow.python.keras.callbacks.History at 0x7f2e603c7e48>"
            ]
          },
          "metadata": {
            "tags": []
          },
          "execution_count": 61
        }
      ]
    },
    {
      "cell_type": "code",
      "metadata": {
        "colab": {
          "base_uri": "https://localhost:8080/",
          "height": 1000
        },
        "id": "G3g3Z9QMXzGU",
        "outputId": "5ee481f2-1d03-4b80-b814-293311a6d42c"
      },
      "source": [
        "from keras.utils import plot_model\n",
        "plot_model(model)"
      ],
      "execution_count": null,
      "outputs": [
        {
          "output_type": "execute_result",
          "data": {
            "image/png": "[encoded data removed]",
            "text/plain": [
              "<IPython.core.display.Image object>"
            ]
          },
          "metadata": {
            "tags": []
          },
          "execution_count": 65
        }
      ]
    },
    {
      "cell_type": "markdown",
      "metadata": {
        "id": "_Sxe3QIDZtsl"
      },
      "source": [
        "# Evaluation"
      ]
    },
    {
      "cell_type": "code",
      "metadata": {
        "id": "ao3-z_2UKfxi"
      },
      "source": [
        "predictions = model.predict(x_val)"
      ],
      "execution_count": null,
      "outputs": []
    },
    {
      "cell_type": "code",
      "metadata": {
        "colab": {
          "base_uri": "https://localhost:8080/"
        },
        "id": "_DNIKibjKjY2",
        "outputId": "eb1d02f0-3c67-45ac-b89b-fcc307f3ef6c"
      },
      "source": [
        "for i in range(10):\n",
        "  pred = predictions[i]\n",
        "  max = pred.max()\n",
        "  for j in range(14):\n",
        "    if pred[j] != max:\n",
        "      pred[j] = 0\n",
        "    else:\n",
        "      pred[j] = 1\n",
        "  print(\"Prediction\", i)\n",
        "  print(pred)\n",
        "  print(y_val[i])\n",
        "  print(\"\\n\")\n"
      ],
      "execution_count": null,
      "outputs": [
        {
          "output_type": "stream",
          "text": [
            "Prediction 0\n",
            "[0. 0. 0. 1. 0. 0. 0. 0. 0. 0. 0. 0. 0. 0.]\n",
            "[0. 0. 0. 0. 1. 0. 0. 0. 0. 0. 0. 0. 0. 0.]\n",
            "\n",
            "\n",
            "Prediction 1\n",
            "[1. 0. 0. 0. 0. 0. 0. 0. 0. 0. 0. 0. 0. 0.]\n",
            "[0. 0. 0. 0. 0. 0. 0. 0. 0. 0. 0. 0. 0. 1.]\n",
            "\n",
            "\n",
            "Prediction 2\n",
            "[0. 1. 0. 0. 0. 0. 0. 0. 0. 0. 0. 0. 0. 0.]\n",
            "[0. 1. 0. 0. 0. 0. 0. 0. 0. 0. 0. 0. 0. 0.]\n",
            "\n",
            "\n",
            "Prediction 3\n",
            "[0. 0. 0. 0. 0. 0. 0. 0. 0. 0. 0. 1. 0. 0.]\n",
            "[0. 0. 0. 0. 0. 0. 0. 0. 0. 0. 0. 0. 1. 0.]\n",
            "\n",
            "\n",
            "Prediction 4\n",
            "[0. 0. 1. 0. 0. 0. 0. 0. 0. 0. 0. 0. 0. 0.]\n",
            "[0. 0. 0. 0. 0. 0. 0. 0. 0. 0. 0. 0. 0. 1.]\n",
            "\n",
            "\n",
            "Prediction 5\n",
            "[0. 0. 0. 0. 0. 0. 0. 0. 1. 0. 0. 0. 0. 0.]\n",
            "[0. 0. 0. 0. 0. 0. 0. 0. 1. 0. 0. 0. 0. 0.]\n",
            "\n",
            "\n",
            "Prediction 6\n",
            "[0. 0. 0. 0. 0. 0. 0. 0. 0. 0. 0. 1. 0. 0.]\n",
            "[0. 0. 0. 0. 0. 0. 0. 0. 0. 0. 0. 1. 0. 0.]\n",
            "\n",
            "\n",
            "Prediction 7\n",
            "[0. 1. 0. 0. 0. 0. 0. 0. 0. 0. 0. 0. 0. 0.]\n",
            "[1. 0. 0. 0. 0. 0. 0. 0. 0. 0. 0. 0. 0. 0.]\n",
            "\n",
            "\n",
            "Prediction 8\n",
            "[0. 0. 0. 0. 0. 0. 0. 0. 0. 1. 0. 0. 0. 0.]\n",
            "[1. 0. 0. 0. 0. 0. 0. 0. 0. 0. 0. 0. 0. 0.]\n",
            "\n",
            "\n",
            "Prediction 9\n",
            "[0. 0. 0. 0. 0. 0. 0. 0. 0. 1. 0. 0. 0. 0.]\n",
            "[0. 0. 0. 0. 0. 0. 0. 0. 0. 1. 0. 0. 0. 0.]\n",
            "\n",
            "\n"
          ],
          "name": "stdout"
        }
      ]
    },
    {
      "cell_type": "code",
      "metadata": {
        "colab": {
          "base_uri": "https://localhost:8080/"
        },
        "id": "n6jSPZ5oLQkp",
        "outputId": "f3e82a2f-4ef5-488a-c0c7-a7a0607bc8e5"
      },
      "source": [
        "correct = 0\n",
        "for i in range(10):\n",
        "  pred = predictions[i]\n",
        "  max = pred.max()\n",
        "  for j in range(14):\n",
        "    if pred[j] != max:\n",
        "      pred[j] = 0\n",
        "    else:\n",
        "      pred[j] = 1\n",
        "  same = True\n",
        "  for j in range(len(pred)):\n",
        "    if pred[j] != y_val[i][j]:\n",
        "      same = False\n",
        "  if same:\n",
        "    correct += 1\n",
        "\n",
        "print(correct/ 10 * 100, \"%\")\n",
        "\n",
        "#shows lower validation accuracy than training accuracy, so model is overfitted"
      ],
      "execution_count": null,
      "outputs": [
        {
          "output_type": "stream",
          "text": [
            "40.0 %\n"
          ],
          "name": "stdout"
        }
      ]
    },
    {
      "cell_type": "markdown",
      "metadata": {
        "id": "uMEs95GprWmp"
      },
      "source": [
        "___"
      ]
    }
  ]
}